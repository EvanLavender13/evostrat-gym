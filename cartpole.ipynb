{
 "cells": [
  {
   "cell_type": "code",
   "execution_count": 1,
   "metadata": {},
   "outputs": [],
   "source": [
    "import gym\n",
    "import numpy as np\n",
    "\n",
    "ENV = gym.make(\"CartPole-v1\")\n",
    "\n",
    "NUM_FEATURES = 4\n",
    "LAMBDA       = 5\n",
    "SIGMA        = 0.1\n",
    "NUM_TRIALS   = 1\n",
    "\n",
    "def sample_population(mu):\n",
    "    return mu + SIGMA * np.random.randn(LAMBDA, NUM_FEATURES)\n",
    "\n",
    "def sample_action(sample, observation):\n",
    "    return 1 if np.dot(observation, sample) > 0.0 else 0\n",
    "\n",
    "def evaluate(sample):\n",
    "    total_rewards = np.zeros(NUM_TRIALS)\n",
    "    for trial in range(NUM_TRIALS):\n",
    "        total_reward = 0.0\n",
    "        observation = ENV.reset()\n",
    "        for step in range(500):\n",
    "            action = sample_action(sample, observation)\n",
    "            observation, reward, done, _ = ENV.step(action)\n",
    "            total_reward += reward\n",
    "            if done: break\n",
    "        total_rewards[trial] = total_reward\n",
    "    return np.mean(total_rewards)\n",
    "\n",
    "def update_mu(population):\n",
    "    return population[0] # TODO, but this works fine for cartpole\n",
    "\n",
    "def play(mu):\n",
    "    observation = ENV.reset()\n",
    "    for step in range(500):\n",
    "        ENV.render()\n",
    "        action = sample_action(mu, observation)\n",
    "        observation, _, done, _ = ENV.step(action)\n",
    "        if done:\n",
    "            print(\"Episode finished after {} timesteps\".format(step + 1))\n",
    "            break"
   ]
  },
  {
   "cell_type": "code",
   "execution_count": 2,
   "metadata": {},
   "outputs": [
    {
     "name": "stdout",
     "output_type": "stream",
     "text": [
      "rewards: [500. 500. 500. 422. 388.]\n"
     ]
    }
   ],
   "source": [
    "mu = np.zeros(NUM_FEATURES)\n",
    "\n",
    "for episode in range(50):\n",
    "    population = sample_population(mu)\n",
    "    rewards = map(evaluate, population)\n",
    "    rewards = np.fromiter(rewards, float)\n",
    "    sort_idx = np.argsort(rewards)\n",
    "    rewards = rewards[sort_idx][::-1]\n",
    "    population = population[sort_idx][::-1]\n",
    "    mu = update_mu(population)\n",
    "print(\"rewards: {}\".format(rewards))\n",
    "    "
   ]
  },
  {
   "cell_type": "code",
   "execution_count": 3,
   "metadata": {},
   "outputs": [
    {
     "name": "stdout",
     "output_type": "stream",
     "text": [
      "Episode finished after 500 timesteps\n"
     ]
    }
   ],
   "source": [
    "play(mu)"
   ]
  }
 ],
 "metadata": {
  "kernelspec": {
   "display_name": "Python 3",
   "language": "python",
   "name": "python3"
  },
  "language_info": {
   "codemirror_mode": {
    "name": "ipython",
    "version": 3
   },
   "file_extension": ".py",
   "mimetype": "text/x-python",
   "name": "python",
   "nbconvert_exporter": "python",
   "pygments_lexer": "ipython3",
   "version": "3.8.1"
  },
  "orig_nbformat": 2
 },
 "nbformat": 4,
 "nbformat_minor": 2
}