{
 "cells": [
  {
   "cell_type": "code",
   "execution_count": 1,
   "metadata": {},
   "outputs": [],
   "source": [
    "import gym\n",
    "import numpy as np\n",
    "\n",
    "ENV = gym.make(\"CartPole-v1\")\n",
    "\n",
    "NUM_FEATURES   = 4\n",
    "LAMBDA         = 50\n",
    "SIGMA          = 0.05\n",
    "ALPHA          = 0.001\n",
    "NUM_EPISODES   = 50\n",
    "EPISODE_LENGTH = 500\n",
    "MAX_REWARD     = EPISODE_LENGTH\n",
    "\n",
    "\n",
    "def sample_population(mu):\n",
    "    noise = np.random.randn(LAMBDA, NUM_FEATURES)\n",
    "    return mu + SIGMA * noise, noise\n",
    "\n",
    "\n",
    "def sample_action(sample, observation):\n",
    "    return 1 if np.dot(observation, sample) > 0.0 else 0\n",
    "\n",
    "\n",
    "def evaluate(sample):\n",
    "    total_reward = 0.0\n",
    "    observation = ENV.reset()\n",
    "    for step in range(EPISODE_LENGTH):\n",
    "        action = sample_action(sample, observation)\n",
    "        observation, reward, done, _ = ENV.step(action)\n",
    "        total_reward += reward\n",
    "        if done: break\n",
    "    return total_reward\n",
    "\n",
    "\n",
    "def play(mu):\n",
    "    observation = ENV.reset()\n",
    "    for step in range(EPISODE_LENGTH):\n",
    "        ENV.render()\n",
    "        action = sample_action(mu, observation)\n",
    "        observation, _, done, _ = ENV.step(action)\n",
    "        if done:\n",
    "            print(\"Episode finished after {} timesteps\".format(step + 1))\n",
    "            break"
   ]
  },
  {
   "cell_type": "code",
   "execution_count": 2,
   "metadata": {},
   "outputs": [],
   "source": [
    "epsilon = 1e-200\n",
    "\n",
    "def run_episodes(n_episodes=NUM_EPISODES):\n",
    "    mu = np.zeros(NUM_FEATURES)\n",
    "\n",
    "    best_reward = 0.0\n",
    "    best_reward_history  = np.zeros(n_episodes)\n",
    "    total_reward_history = np.zeros(n_episodes)\n",
    "\n",
    "    for episode in range(n_episodes):\n",
    "        population, noise = sample_population(mu)\n",
    "        rewards = map(evaluate, population)\n",
    "        rewards = np.fromiter(rewards, float)\n",
    "\n",
    "        ### update mu to sample with highest reward\n",
    "        # sort_idx = np.argsort(rewards)\n",
    "        # rewards = rewards[sort_idx][::-1]\n",
    "        # population = population[sort_idx][::-1]\n",
    "        # if rewards[0] >= best_reward:\n",
    "        #     best_reward = rewards[0]\n",
    "        #     mu = population[0]\n",
    "\n",
    "        ### update based on https://gist.github.com/karpathy/77fbb6a8dac5395f1b73e7a89300318d\n",
    "        rewards_std = (rewards - np.mean(rewards)) / (np.std(rewards, ddof=1) + epsilon)\n",
    "        mu += ALPHA / (LAMBDA * SIGMA) * np.dot(noise.T, rewards_std)\n",
    "\n",
    "        ### update history for plots\n",
    "        best_reward_history[episode]  = np.max(rewards)\n",
    "        total_reward_history[episode] = np.sum(rewards)\n",
    "    # print(\"total episodes: {}\".format(LAMBDA * NUM_EPISODES))\n",
    "    return mu, best_reward_history, total_reward_history\n",
    "    "
   ]
  },
  {
   "cell_type": "code",
   "execution_count": 3,
   "metadata": {},
   "outputs": [
    {
     "data": {
      "image/png": "[encoded data removed]",
      "text/plain": "<Figure size 432x288 with 1 Axes>"
     },
     "metadata": {
      "needs_background": "light"
     },
     "output_type": "display_data"
    }
   ],
   "source": [
    "import matplotlib.pyplot as plt\n",
    "\n",
    "mu, brh, trh = run_episodes()\n",
    "\n",
    "x_axis = np.array(range(NUM_EPISODES)) * LAMBDA\n",
    "# plt.plot(x_axis, brh)\n",
    "plt.plot(x_axis, trh)\n",
    "plt.tight_layout()\n",
    "plt.show()"
   ]
  },
  {
   "cell_type": "code",
   "execution_count": 4,
   "metadata": {},
   "outputs": [
    {
     "name": "stdout",
     "output_type": "stream",
     "text": [
      "0: 100/100 = 1.0%, mu: [0.00526188 0.11022558 0.21696097 0.2320652 ]\n",
      "1: 100/100 = 1.0%, mu: [0.00860121 0.10088402 0.24626093 0.2245934 ]\n",
      "2: 100/100 = 1.0%, mu: [0.0105084  0.11772554 0.21990819 0.21753799]\n",
      "3: 100/100 = 1.0%, mu: [0.00573526 0.12492882 0.23888763 0.21987425]\n",
      "4: 100/100 = 1.0%, mu: [0.00686787 0.10733761 0.23543772 0.22557212]\n",
      "5: 100/100 = 1.0%, mu: [0.01694887 0.1079729  0.25098928 0.228651  ]\n",
      "6: 100/100 = 1.0%, mu: [0.01121615 0.09892118 0.24204019 0.20458323]\n",
      "7: 100/100 = 1.0%, mu: [-0.00286996  0.11742344  0.21964612  0.21521332]\n",
      "8: 100/100 = 1.0%, mu: [0.00603046 0.09614389 0.23527614 0.22057531]\n",
      "9: 100/100 = 1.0%, mu: [0.0025869  0.08344043 0.22764086 0.21666645]\n",
      "total: 1000/1000 = 1.0%\n"
     ]
    }
   ],
   "source": [
    "NUM_TRIALS = 100\n",
    "N = 10\n",
    "\n",
    "total = 0\n",
    "for n in range(N):\n",
    "    mu, _, _ = run_episodes()\n",
    "    success = 0\n",
    "    for i in range(NUM_TRIALS):\n",
    "        reward = evaluate(mu)\n",
    "        if reward >= MAX_REWARD - 5: success += 1\n",
    "    print(\"{}: {}/{} = {}%, mu: {}\".format(n, success, NUM_TRIALS, success / NUM_TRIALS, mu))\n",
    "    total += success\n",
    "    # play(mu)\n",
    "    # print(\"mu: {}\".format(mu))\n",
    "print(\"total: {}/{} = {}%\".format(total, NUM_TRIALS * N, total / (NUM_TRIALS * N)))"
   ]
  },
  {
   "cell_type": "code",
   "execution_count": 5,
   "metadata": {},
   "outputs": [
    {
     "name": "stdout",
     "output_type": "stream",
     "text": [
      "Episode finished after 500 timesteps\n"
     ]
    }
   ],
   "source": [
    "# play(mu)"
   ]
  }
 ],
 "metadata": {
  "kernelspec": {
   "display_name": "Python 3",
   "language": "python",
   "name": "python3"
  },
  "language_info": {
   "codemirror_mode": {
    "name": "ipython",
    "version": 3
   },
   "file_extension": ".py",
   "mimetype": "text/x-python",
   "name": "python",
   "nbconvert_exporter": "python",
   "pygments_lexer": "ipython3",
   "version": "3.8.1"
  },
  "orig_nbformat": 2
 },
 "nbformat": 4,
 "nbformat_minor": 2
}