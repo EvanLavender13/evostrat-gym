{
 "cells": [
  {
   "cell_type": "code",
   "execution_count": 3,
   "metadata": {},
   "outputs": [],
   "source": [
    "import gym\n",
    "import numpy as np\n",
    "\n",
    "ENV = gym.make(\"Acrobot-v1\")\n",
    "\n",
    "NUM_FEATURES = 6\n",
    "LAMBDA       = 10\n",
    "SIGMA        = 0.01\n",
    "NUM_TRIALS   = 1\n",
    "\n",
    "def sample_population(mu):\n",
    "    return mu + SIGMA * np.random.randn(LAMBDA, NUM_FEATURES)\n",
    "\n",
    "def sample_action(sample, observation):\n",
    "    y = np.dot(observation, sample)\n",
    "    if y <  0: return -1\n",
    "    if y <  1: return  0\n",
    "    if y >= 1: return  1\n",
    "\n",
    "def evaluate(sample):\n",
    "    total_rewards = np.zeros(NUM_TRIALS)\n",
    "    for trial in range(NUM_TRIALS):\n",
    "        total_reward = 0.0\n",
    "        observation = ENV.reset()\n",
    "        for step in range(500):\n",
    "            action = sample_action(sample, observation)\n",
    "            observation, reward, done, _ = ENV.step(action)\n",
    "            total_reward += reward\n",
    "            if done: break\n",
    "        total_rewards[trial] = total_reward\n",
    "    return np.mean(total_rewards)\n",
    "\n",
    "def update_mu(population):\n",
    "    return population[0] # TODO, but this works fine for cartpole\n",
    "\n",
    "def play(mu):\n",
    "    observation = ENV.reset()\n",
    "    for step in range(500):\n",
    "        ENV.render()\n",
    "        action = sample_action(mu, observation)\n",
    "        observation, _, done, _ = ENV.step(action)\n",
    "        if done:\n",
    "            print(\"Episode finished after {} timesteps\".format(step + 1))\n",
    "            break"
   ]
  },
  {
   "cell_type": "code",
   "execution_count": 4,
   "metadata": {},
   "outputs": [
    {
     "name": "stdout",
     "output_type": "stream",
     "text": [
      "episode: 5, reward: [ -67.  -72.  -74.  -78.  -79.  -89.  -92.  -93. -500. -500.]\n",
      "episode: 10, reward: [ -65.  -65.  -73.  -74.  -77.  -88. -104. -500. -500. -500.]\n",
      "episode: 15, reward: [ -76.  -77.  -86.  -89.  -91.  -96.  -97.  -98. -500. -500.]\n",
      "episode: 20, reward: [ -65.  -84.  -85.  -88.  -88.  -96. -105. -120. -132. -500.]\n",
      "episode: 25, reward: [ -77.  -78.  -79.  -79.  -82. -100. -114. -500. -500. -500.]\n",
      "episode: 30, reward: [ -65.  -65.  -65.  -66.  -67.  -78.  -82.  -90.  -91. -500.]\n",
      "episode: 35, reward: [ -72.  -74.  -85.  -86.  -87.  -87.  -88. -112. -500. -500.]\n",
      "episode: 40, reward: [-72. -73. -74. -77. -78. -81. -85. -86. -92. -98.]\n",
      "episode: 45, reward: [ -64.  -64.  -65.  -72.  -79.  -81.  -94.  -94. -101. -122.]\n",
      "episode: 50, reward: [ -72.  -84.  -84.  -85.  -88.  -99. -102. -108. -143. -500.]\n",
      "[ 0.14822704 -0.03093725 -0.11040434  0.00468852  0.04022745 -0.09917339]\n",
      "rewards: [ -72.  -84.  -84.  -85.  -88.  -99. -102. -108. -143. -500.]\n"
     ]
    }
   ],
   "source": [
    "mu = np.zeros(NUM_FEATURES)\n",
    "\n",
    "for episode in range(50):\n",
    "    population = sample_population(mu)\n",
    "    rewards = map(evaluate, population)\n",
    "    rewards = np.fromiter(rewards, float)\n",
    "    sort_idx = np.argsort(rewards)\n",
    "    rewards = rewards[sort_idx][::-1]\n",
    "    population = population[sort_idx][::-1]\n",
    "    mu = update_mu(population)\n",
    "    if (episode + 1) % 5 == 0:\n",
    "        print(\"episode: {}, reward: {}\".format(episode + 1, rewards))\n",
    "print(mu)\n",
    "print(\"rewards: {}\".format(rewards))"
   ]
  },
  {
   "cell_type": "code",
   "execution_count": 5,
   "metadata": {},
   "outputs": [
    {
     "name": "stdout",
     "output_type": "stream",
     "text": [
      "Episode finished after 79 timesteps\n"
     ]
    }
   ],
   "source": [
    "play(mu)"
   ]
  }
 ],
 "metadata": {
  "kernelspec": {
   "display_name": "Python 3",
   "name": "python3"
  },
  "language_info": {
   "codemirror_mode": {
    "name": "ipython",
    "version": 3
   },
   "file_extension": ".py",
   "mimetype": "text/x-python",
   "name": "python",
   "nbconvert_exporter": "python",
   "pygments_lexer": "ipython3",
   "version": "3.8.1"
  },
  "orig_nbformat": 2
 },
 "nbformat": 4,
 "nbformat_minor": 2
}